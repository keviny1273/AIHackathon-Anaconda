{
 "cells": [
  {
   "cell_type": "heading",
   "metadata": {
    "collapsed": true
   },
   "level": 1,
   "source": [
    "Wine Quality Prediction"
   ]
  },
  {
   "cell_type": "heading",
   "metadata": {},
   "level": 2,
   "source": [
    "Preliminaries"
   ]
  },
  {
   "cell_type": "markdown",
   "metadata": {},
   "source": [
    "In this little example we will look at several ways to predict the quality of wine based on several measurable quanities. But remember, waine tasting is largely a matter of personal taste.\n",
    "\n",
    "Frist, let's invoke some of the imports we will need."
   ]
  },
  {
   "cell_type": "code",
   "execution_count": 2,
   "metadata": {},
   "outputs": [],
   "source": [
    "import tensorflow as tf\n",
    "import numpy as np\n",
    "import os\n",
    "import urllib\n",
    "import random\n",
    "from sklearn.neighbors import KNeighborsClassifier\n",
    "import matplotlib.pyplot as plt\n",
    "import tarfile\n",
    "\n",
    " "
   ]
  },
  {
   "cell_type": "markdown",
   "metadata": {},
   "source": [
    "Next we need to make sure we have the data sets we needed downloaded. First let's get our data sets."
   ]
  },
  {
   "cell_type": "code",
   "execution_count": 3,
   "metadata": {},
   "outputs": [],
   "source": [
    "white_wine_file = \"winequality-white.csv\"\n",
    "if not os.path.exists(white_wine_file):\n",
    "    urllib.request.urlretrieve(\"https://archive.ics.uci.edu/ml/machine-learning-databases/wine-quality/winequality-white.csv\", white_wine_file)\n",
    "\n",
    "red_wine_file = \"winequality-red.csv\"\n",
    "if not os.path.exists(red_wine_file):\n",
    "    urllib.request.urlretrieve(\"https://archive.ics.uci.edu/ml/machine-learning-databases/wine-quality/winequality-red.csv\", red_wine_file)\n"
   ]
  },
  {
   "cell_type": "markdown",
   "metadata": {},
   "source": [
    "Now we need to load and explore the data set. Load them into memory using the numpy tooling. The columns have the following meaings:\n",
    "'fixed acidity', 'volatile acidity', 'citric acid', 'residual sugar', 'chlorides', 'free sulfur dioxide', 'total sulfur dioxide', 'density', 'pH', 'sulphates', 'alcohol', 'quality'. We will pretty much ignore these as we will be doing ML based only on non-expert traing straegies. We also separate out the labels from the features."
   ]
  },
  {
   "cell_type": "code",
   "execution_count": 4,
   "metadata": {
    "collapsed": false
   },
   "outputs": [
    {
     "name": "stdout",
     "output_type": "stream",
     "text": [
      "White wine features:\nHistogram of labels (w) =  [   0    0    0   20  163 1457 2198  880  175    5    0]\nFeature =        fixed acidity  (min =  3.800, ave =  6.855, max = 14.200).\nFeature =     volatile acidity  (min =  0.080, ave =  0.278, max =  1.100).\nFeature =          citric acid  (min =  0.000, ave =  0.334, max =  1.660).\nFeature =       residual sugar  (min =  0.600, ave =  6.391, max = 65.800).\nFeature =            chlorides  (min =  0.009, ave =  0.046, max =  0.346).\nFeature =  free sulfur dioxide  (min =  2.000, ave = 35.308, max = 289.000).\nFeature = total sulfur dioxide  (min =  9.000, ave = 138.361, max = 440.000).\nFeature =              density  (min =  0.987, ave =  0.994, max =  1.039).\nFeature =                   pH  (min =  2.720, ave =  3.188, max =  3.820).\nFeature =            sulphates  (min =  0.220, ave =  0.490, max =  1.080).\nFeature =              alcohol  (min =  8.000, ave = 10.514, max = 14.200).\n\nRed wine features:\nHistogram of labels (r) =  [  0   0   0  10  53 681 638 199  18   0   0]\nFeature =        fixed acidity  (min =  4.600, ave =  8.320, max = 15.900).\nFeature =     volatile acidity  (min =  0.120, ave =  0.528, max =  1.580).\nFeature =          citric acid  (min =  0.000, ave =  0.271, max =  1.000).\nFeature =       residual sugar  (min =  0.900, ave =  2.539, max = 15.500).\nFeature =            chlorides  (min =  0.012, ave =  0.087, max =  0.611).\nFeature =  free sulfur dioxide  (min =  1.000, ave = 15.875, max = 72.000).\nFeature = total sulfur dioxide  (min =  6.000, ave = 46.468, max = 289.000).\nFeature =              density  (min =  0.990, ave =  0.997, max =  1.004).\nFeature =                   pH  (min =  2.740, ave =  3.311, max =  4.010).\nFeature =            sulphates  (min =  0.330, ave =  0.658, max =  2.000).\nFeature =              alcohol  (min =  8.400, ave = 10.423, max = 14.900).\n"
     ]
    }
   ],
   "source": [
    "\n",
    "tags = np.array(['fixed acidity', 'volatile acidity', 'citric acid', 'residual sugar', 'chlorides', 'free sulfur dioxide', 'total sulfur dioxide', 'density', 'pH', 'sulphates', 'alcohol'])\n",
    "ww = np.loadtxt(white_wine_file, skiprows=1, delimiter=';')\n",
    "ww_labels = ww[:, 11]\n",
    "ww_features = ww[:, range(11)]\n",
    "rw = np.loadtxt(red_wine_file, skiprows=1, delimiter=';')\n",
    "rw_labels = rw[:, 11]\n",
    "rw_features = rw[:, range(11)]\n",
    "\n",
    "w_hist, _ = np.histogram(ww_labels, [0,1,2,3,4,5,6,7,8,9,10,11])\n",
    "r_hist, _ = np.histogram(rw_labels, [0,1,2,3,4,5,6,7,8,9,10,11])\n",
    "\n",
    "print(\"White wine features:\")\n",
    "print(\"Histogram of labels (w) = \", w_hist)\n",
    "for w in range(11):\n",
    "    print(\"Feature = %20s  (min = %6.3f, ave = %6.3f, max = %6.3f).\" % (tags[w], np.min(ww_features[:,w]), np.average(ww_features[:,w]), np.max(ww_features[:,w])))\n",
    "\n",
    "print(\"\\nRed wine features:\")\n",
    "print(\"Histogram of labels (r) = \", r_hist)\n",
    "for w in range(11):\n",
    "    print(\"Feature = %20s  (min = %6.3f, ave = %6.3f, max = %6.3f).\" % (tags[w], np.min(rw_features[:,w]), np.average(rw_features[:,w]), np.max(rw_features[:,w])))\n",
    "     \n"
   ]
  },
  {
   "cell_type": "heading",
   "metadata": {},
   "level": 2,
   "source": [
    "Data Segmentation"
   ]
  },
  {
   "cell_type": "markdown",
   "metadata": {},
   "source": [
    "Next we need to divide our data into training, validation, and test data sets. Typically we target 80, 10, 10. Just in case the existing data has some existing assumptions about the order, we will take random samples or each data set. Notice that we explicitly set the random number generator seed. This way we get the same partitioning everytime we rerun the program."
   ]
  },
  {
   "cell_type": "code",
   "execution_count": 5,
   "metadata": {},
   "outputs": [],
   "source": [
    "wn = len(ww_features)\n",
    "random.seed(26)\n",
    "ww_ind = random.sample(range(wn), wn)\n",
    "ww_f_tr = np.array([ww_features[ww_ind[i]] for i in range(0, int(0.8*wn))])\n",
    "ww_f_va = np.array([ww_features[ww_ind[i]] for i in range(int(0.8*wn)+1, int(0.9*wn))])\n",
    "ww_f_te = np.array([ww_features[ww_ind[i]] for i in range(int(0.9*wn)+1, wn-1)])\n",
    "ww_l_tr = np.array([ww_labels[ww_ind[i]] for i in range(0, int(0.8*wn))])\n",
    "ww_l_va = np.array([ww_labels[ww_ind[i]] for i in range(int(0.8*wn)+1, int(0.9*wn))])\n",
    "ww_l_te = np.array([ww_labels[ww_ind[i]] for i in range(int(0.9*wn)+1, wn-1)])\n"
   ]
  },
  {
   "cell_type": "heading",
   "metadata": {},
   "level": 2,
   "source": [
    "K Nearest Neighbour Classification"
   ]
  },
  {
   "cell_type": "markdown",
   "metadata": {},
   "source": [
    "Let's start with a simple K Nearest Neighbours (KNN) style machine learning. This is a straingt forwards process requiring only a single traing step. Notice that we only list the results for the validation set. This is because we will be tuning the KNN parameters and don't want to over fit against the testing data set."
   ]
  },
  {
   "cell_type": "code",
   "execution_count": 6,
   "metadata": {},
   "outputs": [
    {
     "name": "stdout",
     "output_type": "stream",
     "text": [
      "Prediction =  6.0 Actual =  6.0  Probabilities =  [ 0.          0.          0.19858734  0.80141266  0.          0.          0.        ]\nPrediction =  7.0 Actual =  7.0  Probabilities =  [ 0.          0.27594317  0.          0.29075244  0.4333044   0.          0.        ]\nPrediction =  5.0 Actual =  5.0  Probabilities =  [ 0.          0.          0.63948569  0.36051431  0.          0.          0.        ]\nPrediction =  6.0 Actual =  6.0  Probabilities =  [ 0.  0.  0.  1.  0.  0.  0.]\nPrediction =  6.0 Actual =  7.0  Probabilities =  [ 0.          0.18761848  0.17104693  0.4112507   0.          0.23008388\n  0.        ]\nPrediction =  6.0 Actual =  6.0  Probabilities =  [ 0.  0.  0.  1.  0.  0.  0.]\nPrediction =  7.0 Actual =  7.0  Probabilities =  [ 0.          0.          0.          0.          0.54366716  0.45633284\n  0.        ]\nPrediction =  6.0 Actual =  6.0  Probabilities =  [ 0.  0.  0.  1.  0.  0.  0.]\nPrediction =  6.0 Actual =  6.0  Probabilities =  [ 0.          0.          0.20534129  0.54744074  0.24721798  0.          0.        ]\nPrediction =  6.0 Actual =  6.0  Probabilities =  [ 0.          0.          0.          0.80432839  0.19567161  0.          0.        ]\nScore =  0.61554192229\n"
     ]
    }
   ],
   "source": [
    "knn = KNeighborsClassifier(n_neighbors=5, weights='distance')\n",
    "knn.fit(ww_f_tr, ww_l_tr)\n",
    "\n",
    "# Look at 10 of our validation set:\n",
    "for i in range(10):\n",
    "    pred = knn.predict([ww_f_va[i]])[0]\n",
    "    probs = knn.predict_proba([ww_f_va[i]])\n",
    "    print (\"Prediction = \", pred, \"Actual = \", ww_l_va[i], \" Probabilities = \", probs[0])\n",
    "    \n",
    "# Run the complete validation data set.\n",
    "score = knn.score(ww_f_va, ww_l_va)\n",
    "print(\"Score = \", score)\n"
   ]
  },
  {
   "cell_type": "markdown",
   "metadata": {},
   "source": [
    "Recall the histogram we computed for the white wine:  [   0    0    0   20  163 1457 2198  880  175    5    0].\n",
    "Lets have a close look at how our system in performaing. We'll look at the false positives and false negatives for each class. False positive is where the class was incorrectly predicted; a false negative is where a wrong class was predicited. In our case we will have a false positive somewhere for every false negative, but any patterns in the distribution could be interesting."
   ]
  },
  {
   "cell_type": "code",
   "execution_count": 7,
   "metadata": {},
   "outputs": [
    {
     "name": "stdout",
     "output_type": "stream",
     "text": [
      "N =  489\n"
     ]
    },
    {
     "name": "stdout",
     "output_type": "stream",
     "text": [
      "Total wrong = 188. Eror rate =  38.4458%\nClass =  0 False positive =   0 (  0.0%) False negative =   0 (  0.0%).\nClass =  1 False positive =   0 (  0.0%) False negative =   0 (  0.0%).\nClass =  2 False positive =   0 (  0.0%) False negative =   0 (  0.0%).\nClass =  3 False positive =   0 (  0.0%) False negative =   3 (  0.6%).\nClass =  4 False positive =   0 (  0.0%) False negative =  16 (  3.3%).\nClass =  5 False positive =  57 ( 11.7%) False negative =  48 (  9.8%).\nClass =  6 False positive =  86 ( 17.6%) False negative =  66 ( 13.5%).\nClass =  7 False positive =  42 (  8.6%) False negative =  44 (  9.0%).\nClass =  8 False positive =   3 (  0.6%) False negative =  11 (  2.2%).\nClass =  9 False positive =   0 (  0.0%) False negative =   0 (  0.0%).\nClass = 10 False positive =   0 (  0.0%) False negative =   0 (  0.0%).\n"
     ]
    }
   ],
   "source": [
    "fp = np.zeros(11)\n",
    "fn = np.zeros(11)\n",
    "n = len(ww_f_va)\n",
    "tot = 0\n",
    "print(\"N = \", n)\n",
    "for i in range(n):\n",
    "    pred = knn.predict([ww_f_va[i]])[0]\n",
    "    if pred != ww_l_va[i]:\n",
    "        tot = tot + 1\n",
    "        fn[int(ww_l_va[i])] = fn[int(ww_l_va[i])] + 1\n",
    "        fp[int(pred)] = fp[int(pred)] + 1\n",
    "\n",
    "print(\"Total wrong = %3d. Eror rate = %8.4f%%\" % (tot, 100.0*tot/n))\n",
    "for i in range(11):\n",
    "    print(\"Class = %2d False positive = %3d (%5.1f%%) False negative = %3d (%5.1f%%).\" % (i, fp[i], 100.0*fp[i]/n, fn[i\n",
    "    ], 100.0*fn[i]/n))\n",
    "\n",
    "        "
   ]
  },
  {
   "cell_type": "markdown",
   "metadata": {},
   "source": [
    "Recall that classes 0, 1, and 10 are empty for the white wine, so the fact that these have perfect scores is not surprising. It is also a bit of god news. So ignoring these, . The reader should try repeating the process for red wines."
   ]
  },
  {
   "cell_type": "heading",
   "metadata": {},
   "level": 2,
   "source": [
    "Introduction to Imagification"
   ]
  },
  {
   "cell_type": "markdown",
   "metadata": {},
   "source": [
    "The basic idea behine 'imigification' is that without needing to understand the detailed meaning of feature data we can still gain an insight into how well we might be able to classify this data. In the case of wine we wee able to do pretty well with just using the KNN classifier, but in some cases there will be many more features or simply large volumes of data associated with each instance. In this case we want to develop a way to classify these without a detailed understanding of the specialist knowledge associated with the data.\n",
    "\n",
    "We have also discovered that modern image perception networks are quite good with detail that sometimes humans miss. We would like to exploit this learning with a technique called transfer learning. So while the wine case may not seem to demand this approach, we'll have a go anyway to see how straight forward the process of imagification can be."
   ]
  },
  {
   "cell_type": "heading",
   "metadata": {},
   "level": 2,
   "source": [
    "Capturing the Data as Images"
   ]
  },
  {
   "cell_type": "markdown",
   "metadata": {},
   "source": [
    "The first step in the process is to capture the data as images. Let's try a bar chart. [Note that we are normalizing all the features against the average across the whole data set so that all bars have about the same impact in the image.]"
   ]
  },
  {
   "cell_type": "code",
   "execution_count": 35,
   "metadata": {
    "collapsed": false
   },
   "outputs": [
    {
     "data": {
      "image/png": "[encoded data removed]",
      "text/plain": [
       "<matplotlib.figure.Figure at 0x1d90a4b03c8>"
      ]
     },
     "metadata": {},
     "output_type": "display_data"
    }
   ],
   "source": [
    "plt.close()\n",
    "fig, bar = plt.subplots()\n",
    "indx = range(11)\n",
    "p = 50\n",
    "features = [ww_f_tr[p][f]/np.average(ww_f_tr[:,f]) for f in range(11)]\n",
    "bar.bar(indx, features)\n",
    "plt.show()\n",
    "\n"
   ]
  },
  {
   "cell_type": "markdown",
   "metadata": {},
   "source": [
    "Now we need to build the image data set to use in training the image recognizer. Note we will also at this point simplify our task a bit and reduce the numbr of categories. The image base recognizer uses a directory structure containing images to identify the classes, so as we build the image data set, we will put them into this data structure. This step will take some time. Go have a coffee. Recall again our histogram for white wine: [   0    0    0   20  163 1457 2198  880  175    5    0]. We will create a few categories for these."
   ]
  },
  {
   "cell_type": "code",
   "execution_count": 20,
   "metadata": {},
   "outputs": [],
   "source": [
    "# Create the directory structure, if it doesnt exist.\n",
    "doing_retraining = False\n",
    "if doing_retraining:\n",
    "    # Build the nested directory strcture needed for the retraining approach.\n",
    "    if not os.path.exists(\"wines\"):\n",
    "        os.makedirs(\"wines\")\n",
    "        os.makedirs(\"wines/undrinkable\")\n",
    "        os.makedirs(\"wines/poor\")\n",
    "        os.makedirs(\"wines/ok\")\n",
    "        os.makedirs(\"wines/good\")\n",
    "        os.makedirs(\"wines/excellent\")\n",
    "        \n",
    "        f_inds = range(11)\n",
    "        for p in range (len(ww_f_tr)):\n",
    "            features = ww_f_tr[p]\n",
    "            for f in f_inds:\n",
    "                features[f] = features[f]/np.average(ww_f_tr[:,f])\n",
    "                \n",
    "            plt.close()\n",
    "            _, bar = plt.subplots()\n",
    "            bar.bar(f_inds, features)\n",
    "            lab = ww_labels[p]\n",
    "            if lab <= 4:\n",
    "                plt.savefig(\"wines/undrinkable/WW%04d.jpeg\"%(p))\n",
    "            if lab == 5:\n",
    "                plt.savefig(\"wines/poor/WW%04d.jpeg\"%(p))\n",
    "            if lab == 6:\n",
    "                plt.savefig(\"wines/ok/WW%04d.jpeg\"%(p))\n",
    "            if lab == 7:\n",
    "                plt.savefig(\"wines/good/WW%04d.jpeg\"%(p))\n",
    "            if lab >= 8:\n",
    "                plt.savefig(\"wines/excellent/WW%04d.jpeg\"%(p))\n",
    "            \n",
    "else:\n",
    "    # In the case of replacing the final classifier with a KNN, a simpler structure is needed.\n",
    "    if not os.path.exists(\"wines_t\"):\n",
    "        os.makedirs(\"wines_t\")\n",
    "\n",
    "        f_inds = range(11)\n",
    "        for p in range (len(ww_f_tr)):\n",
    "            features = ww_f_tr[p]\n",
    "            for f in f_inds:\n",
    "                features[f] = features[f]/np.average(ww_f_tr[:,f])\n",
    "                \n",
    "            plt.close()\n",
    "            _, bar = plt.subplots()\n",
    "            bar.bar(f_inds, features)\n",
    "            plt.savefig(\"wines_t/WW%04d.jpeg\"%(p))\n",
    "    \n",
    "    if not os.path.exists(\"wines_v\"):\n",
    "        os.makedirs(\"wines_v\")\n",
    "\n",
    "        f_inds = range(11)\n",
    "        for p in range (len(ww_f_va)):\n",
    "            features = ww_f_tr[p]\n",
    "            for f in f_inds:\n",
    "                features[f] = features[f]/np.average(ww_f_va[:,f])\n",
    "                \n",
    "            plt.close()\n",
    "            _, bar = plt.subplots()\n",
    "            bar.bar(f_inds, features)\n",
    "            plt.savefig(\"wines_v/WW%04d.jpeg\"%(p))\n"
   ]
  },
  {
   "cell_type": "markdown",
   "metadata": {},
   "source": [
    "For the retraining approach, I have moved the wines directory to the Retain application and trialed the approach there. Validation accuracy was around 33% to 60%, but the test accuracy was only 33%."
   ]
  },
  {
   "cell_type": "markdown",
   "metadata": {},
   "source": [
    "As a simpler alternative to retraining the final layer of the neural net, we can simply remove it and replace it with a KNN classifier using the final pooling layer are the source for our features. This easily demonstrates the ability to adapt CNNs for use in transfer learning."
   ]
  },
  {
   "cell_type": "markdown",
   "metadata": {},
   "source": [
    "First make sure the Inception and TensorFlow environment is set up."
   ]
  },
  {
   "cell_type": "code",
   "execution_count": 26,
   "metadata": {},
   "outputs": [],
   "source": [
    "if not os.path.exists(\"model\"):\n",
    "    os.makedirs(\"model\")\n",
    "    \n",
    "if not os.path.exists(\"model/inception-2015-12-05.tgz\"):\n",
    "    filepath, _ = urllib.request.urlretrieve(\n",
    "            \"http://download.tensorflow.org/models/image/imagenet/inception-2015-12-05.tgz\", \"model/inception-2015-12-05.tgz\")\n",
    "    tarfile.open(filepath, 'r:gz').extractall(\"model\")\n",
    " "
   ]
  },
  {
   "cell_type": "markdown",
   "metadata": {},
   "source": [
    "Now we need to run all our images through the Inception CNN and then set up a KNN to train against the lnown labels."
   ]
  },
  {
   "cell_type": "code",
   "execution_count": 28,
   "metadata": {
    "collapsed": true
   },
   "outputs": [
    {
     "name": "stdout",
     "output_type": "stream",
     "text": [
      "Generating training feature set for image number =  0\n"
     ]
    },
    {
     "name": "stdout",
     "output_type": "stream",
     "text": [
      "Generating training feature set for image number =  10\n"
     ]
    },
    {
     "name": "stdout",
     "output_type": "stream",
     "text": [
      "Generating training feature set for image number =  20\n"
     ]
    },
    {
     "name": "stdout",
     "output_type": "stream",
     "text": [
      "Generating training feature set for image number =  30\n"
     ]
    },
    {
     "name": "stdout",
     "output_type": "stream",
     "text": [
      "Generating training feature set for image number =  40\n"
     ]
    },
    {
     "name": "stdout",
     "output_type": "stream",
     "text": [
      "Generating training feature set for image number =  50\n"
     ]
    },
    {
     "name": "stdout",
     "output_type": "stream",
     "text": [
      "Generating training feature set for image number =  60\n"
     ]
    },
    {
     "name": "stdout",
     "output_type": "stream",
     "text": [
      "Generating training feature set for image number =  70\n"
     ]
    },
    {
     "name": "stdout",
     "output_type": "stream",
     "text": [
      "Generating training feature set for image number =  80\n"
     ]
    },
    {
     "name": "stdout",
     "output_type": "stream",
     "text": [
      "Generating training feature set for image number =  90\n"
     ]
    },
    {
     "name": "stdout",
     "output_type": "stream",
     "text": [
      "Generating training feature set for image number =  100\n"
     ]
    },
    {
     "name": "stdout",
     "output_type": "stream",
     "text": [
      "Generating training feature set for image number =  110\n"
     ]
    },
    {
     "name": "stdout",
     "output_type": "stream",
     "text": [
      "Generating training feature set for image number =  120\n"
     ]
    },
    {
     "name": "stdout",
     "output_type": "stream",
     "text": [
      "Generating training feature set for image number =  130\n"
     ]
    },
    {
     "name": "stdout",
     "output_type": "stream",
     "text": [
      "Generating training feature set for image number =  140\n"
     ]
    },
    {
     "name": "stdout",
     "output_type": "stream",
     "text": [
      "Generating training feature set for image number =  150\n"
     ]
    },
    {
     "name": "stdout",
     "output_type": "stream",
     "text": [
      "Generating training feature set for image number =  160\n"
     ]
    },
    {
     "name": "stdout",
     "output_type": "stream",
     "text": [
      "Generating training feature set for image number =  170\n"
     ]
    },
    {
     "name": "stdout",
     "output_type": "stream",
     "text": [
      "Generating training feature set for image number =  180\n"
     ]
    },
    {
     "name": "stdout",
     "output_type": "stream",
     "text": [
      "Generating training feature set for image number =  190\n"
     ]
    },
    {
     "name": "stdout",
     "output_type": "stream",
     "text": [
      "Generating training feature set for image number =  200\n"
     ]
    },
    {
     "name": "stdout",
     "output_type": "stream",
     "text": [
      "Generating training feature set for image number =  210\n"
     ]
    },
    {
     "name": "stdout",
     "output_type": "stream",
     "text": [
      "Generating training feature set for image number =  220\n"
     ]
    },
    {
     "name": "stdout",
     "output_type": "stream",
     "text": [
      "Generating training feature set for image number =  230\n"
     ]
    },
    {
     "name": "stdout",
     "output_type": "stream",
     "text": [
      "Generating training feature set for image number =  240\n"
     ]
    },
    {
     "name": "stdout",
     "output_type": "stream",
     "text": [
      "Generating training feature set for image number =  250\n"
     ]
    },
    {
     "name": "stdout",
     "output_type": "stream",
     "text": [
      "Generating training feature set for image number =  260\n"
     ]
    },
    {
     "name": "stdout",
     "output_type": "stream",
     "text": [
      "Generating training feature set for image number =  270\n"
     ]
    },
    {
     "name": "stdout",
     "output_type": "stream",
     "text": [
      "Generating training feature set for image number =  280\n"
     ]
    },
    {
     "name": "stdout",
     "output_type": "stream",
     "text": [
      "Generating training feature set for image number =  290\n"
     ]
    },
    {
     "name": "stdout",
     "output_type": "stream",
     "text": [
      "Generating training feature set for image number =  300\n"
     ]
    },
    {
     "name": "stdout",
     "output_type": "stream",
     "text": [
      "Generating training feature set for image number =  310\n"
     ]
    },
    {
     "name": "stdout",
     "output_type": "stream",
     "text": [
      "Generating training feature set for image number =  320\n"
     ]
    },
    {
     "name": "stdout",
     "output_type": "stream",
     "text": [
      "Generating training feature set for image number =  330\n"
     ]
    },
    {
     "name": "stdout",
     "output_type": "stream",
     "text": [
      "Generating training feature set for image number =  340\n"
     ]
    },
    {
     "name": "stdout",
     "output_type": "stream",
     "text": [
      "Generating training feature set for image number =  350\n"
     ]
    },
    {
     "name": "stdout",
     "output_type": "stream",
     "text": [
      "Generating training feature set for image number =  360\n"
     ]
    },
    {
     "name": "stdout",
     "output_type": "stream",
     "text": [
      "Generating training feature set for image number =  370\n"
     ]
    },
    {
     "name": "stdout",
     "output_type": "stream",
     "text": [
      "Generating training feature set for image number =  380\n"
     ]
    },
    {
     "name": "stdout",
     "output_type": "stream",
     "text": [
      "Generating training feature set for image number =  390\n"
     ]
    },
    {
     "name": "stdout",
     "output_type": "stream",
     "text": [
      "Generating training feature set for image number =  400\n"
     ]
    },
    {
     "name": "stdout",
     "output_type": "stream",
     "text": [
      "Generating training feature set for image number =  410\n"
     ]
    },
    {
     "name": "stdout",
     "output_type": "stream",
     "text": [
      "Generating training feature set for image number =  420\n"
     ]
    },
    {
     "name": "stdout",
     "output_type": "stream",
     "text": [
      "Generating training feature set for image number =  430\n"
     ]
    },
    {
     "name": "stdout",
     "output_type": "stream",
     "text": [
      "Generating training feature set for image number =  440\n"
     ]
    },
    {
     "name": "stdout",
     "output_type": "stream",
     "text": [
      "Generating training feature set for image number =  450\n"
     ]
    },
    {
     "name": "stdout",
     "output_type": "stream",
     "text": [
      "Generating training feature set for image number =  460\n"
     ]
    },
    {
     "name": "stdout",
     "output_type": "stream",
     "text": [
      "Generating training feature set for image number =  470\n"
     ]
    },
    {
     "name": "stdout",
     "output_type": "stream",
     "text": [
      "Generating training feature set for image number =  480\n"
     ]
    },
    {
     "name": "stdout",
     "output_type": "stream",
     "text": [
      "Generating training feature set for image number =  490\n"
     ]
    },
    {
     "name": "stdout",
     "output_type": "stream",
     "text": [
      "Generating training feature set for image number =  500\n"
     ]
    },
    {
     "name": "stdout",
     "output_type": "stream",
     "text": [
      "Generating training feature set for image number =  510\n"
     ]
    },
    {
     "name": "stdout",
     "output_type": "stream",
     "text": [
      "Generating training feature set for image number =  520\n"
     ]
    },
    {
     "name": "stdout",
     "output_type": "stream",
     "text": [
      "Generating training feature set for image number =  530\n"
     ]
    },
    {
     "name": "stdout",
     "output_type": "stream",
     "text": [
      "Generating training feature set for image number =  540\n"
     ]
    },
    {
     "name": "stdout",
     "output_type": "stream",
     "text": [
      "Generating training feature set for image number =  550\n"
     ]
    },
    {
     "name": "stdout",
     "output_type": "stream",
     "text": [
      "Generating training feature set for image number =  560\n"
     ]
    },
    {
     "name": "stdout",
     "output_type": "stream",
     "text": [
      "Generating training feature set for image number =  570\n"
     ]
    },
    {
     "name": "stdout",
     "output_type": "stream",
     "text": [
      "Generating training feature set for image number =  580\n"
     ]
    },
    {
     "name": "stdout",
     "output_type": "stream",
     "text": [
      "Generating training feature set for image number =  590\n"
     ]
    },
    {
     "name": "stdout",
     "output_type": "stream",
     "text": [
      "Generating training feature set for image number =  600\n"
     ]
    },
    {
     "name": "stdout",
     "output_type": "stream",
     "text": [
      "Generating training feature set for image number =  610\n"
     ]
    },
    {
     "name": "stdout",
     "output_type": "stream",
     "text": [
      "Generating training feature set for image number =  620\n"
     ]
    },
    {
     "name": "stdout",
     "output_type": "stream",
     "text": [
      "Generating training feature set for image number =  630\n"
     ]
    },
    {
     "name": "stdout",
     "output_type": "stream",
     "text": [
      "Generating training feature set for image number =  640\n"
     ]
    },
    {
     "name": "stdout",
     "output_type": "stream",
     "text": [
      "Generating training feature set for image number =  650\n"
     ]
    },
    {
     "name": "stdout",
     "output_type": "stream",
     "text": [
      "Generating training feature set for image number =  660\n"
     ]
    },
    {
     "name": "stdout",
     "output_type": "stream",
     "text": [
      "Generating training feature set for image number =  670\n"
     ]
    },
    {
     "name": "stdout",
     "output_type": "stream",
     "text": [
      "Generating training feature set for image number =  680\n"
     ]
    },
    {
     "name": "stdout",
     "output_type": "stream",
     "text": [
      "Generating training feature set for image number =  690\n"
     ]
    },
    {
     "name": "stdout",
     "output_type": "stream",
     "text": [
      "Generating training feature set for image number =  700\n"
     ]
    },
    {
     "name": "stdout",
     "output_type": "stream",
     "text": [
      "Generating training feature set for image number =  710\n"
     ]
    },
    {
     "name": "stdout",
     "output_type": "stream",
     "text": [
      "Generating training feature set for image number =  720\n"
     ]
    },
    {
     "name": "stdout",
     "output_type": "stream",
     "text": [
      "Generating training feature set for image number =  730\n"
     ]
    },
    {
     "name": "stdout",
     "output_type": "stream",
     "text": [
      "Generating training feature set for image number =  740\n"
     ]
    },
    {
     "name": "stdout",
     "output_type": "stream",
     "text": [
      "Generating training feature set for image number =  750\n"
     ]
    },
    {
     "name": "stdout",
     "output_type": "stream",
     "text": [
      "Generating training feature set for image number =  760\n"
     ]
    },
    {
     "name": "stdout",
     "output_type": "stream",
     "text": [
      "Generating training feature set for image number =  770\n"
     ]
    },
    {
     "name": "stdout",
     "output_type": "stream",
     "text": [
      "Generating training feature set for image number =  780\n"
     ]
    },
    {
     "name": "stdout",
     "output_type": "stream",
     "text": [
      "Generating training feature set for image number =  790\n"
     ]
    },
    {
     "name": "stdout",
     "output_type": "stream",
     "text": [
      "Generating training feature set for image number =  800\n"
     ]
    },
    {
     "name": "stdout",
     "output_type": "stream",
     "text": [
      "Generating training feature set for image number =  810\n"
     ]
    },
    {
     "name": "stdout",
     "output_type": "stream",
     "text": [
      "Generating training feature set for image number =  820\n"
     ]
    },
    {
     "name": "stdout",
     "output_type": "stream",
     "text": [
      "Generating training feature set for image number =  830\n"
     ]
    },
    {
     "name": "stdout",
     "output_type": "stream",
     "text": [
      "Generating training feature set for image number =  840\n"
     ]
    },
    {
     "name": "stdout",
     "output_type": "stream",
     "text": [
      "Generating training feature set for image number =  850\n"
     ]
    },
    {
     "name": "stdout",
     "output_type": "stream",
     "text": [
      "Generating training feature set for image number =  860\n"
     ]
    },
    {
     "name": "stdout",
     "output_type": "stream",
     "text": [
      "Generating training feature set for image number =  870\n"
     ]
    },
    {
     "name": "stdout",
     "output_type": "stream",
     "text": [
      "Generating training feature set for image number =  880\n"
     ]
    },
    {
     "name": "stdout",
     "output_type": "stream",
     "text": [
      "Generating training feature set for image number =  890\n"
     ]
    },
    {
     "name": "stdout",
     "output_type": "stream",
     "text": [
      "Generating training feature set for image number =  900\n"
     ]
    },
    {
     "name": "stdout",
     "output_type": "stream",
     "text": [
      "Generating training feature set for image number =  910\n"
     ]
    },
    {
     "name": "stdout",
     "output_type": "stream",
     "text": [
      "Generating training feature set for image number =  920\n"
     ]
    },
    {
     "name": "stdout",
     "output_type": "stream",
     "text": [
      "Generating training feature set for image number =  930\n"
     ]
    },
    {
     "name": "stdout",
     "output_type": "stream",
     "text": [
      "Generating training feature set for image number =  940\n"
     ]
    },
    {
     "name": "stdout",
     "output_type": "stream",
     "text": [
      "Generating training feature set for image number =  950\n"
     ]
    },
    {
     "name": "stdout",
     "output_type": "stream",
     "text": [
      "Generating training feature set for image number =  960\n"
     ]
    },
    {
     "name": "stdout",
     "output_type": "stream",
     "text": [
      "Generating training feature set for image number =  970\n"
     ]
    },
    {
     "name": "stdout",
     "output_type": "stream",
     "text": [
      "Generating training feature set for image number =  980\n"
     ]
    },
    {
     "name": "stdout",
     "output_type": "stream",
     "text": [
      "Generating training feature set for image number =  990\n"
     ]
    },
    {
     "name": "stdout",
     "output_type": "stream",
     "text": [
      "Generating training feature set for image number =  1000\n"
     ]
    },
    {
     "name": "stdout",
     "output_type": "stream",
     "text": [
      "Generating training feature set for image number =  1010\n"
     ]
    },
    {
     "name": "stdout",
     "output_type": "stream",
     "text": [
      "Generating training feature set for image number =  1020\n"
     ]
    },
    {
     "name": "stdout",
     "output_type": "stream",
     "text": [
      "Generating training feature set for image number =  1030\n"
     ]
    },
    {
     "name": "stdout",
     "output_type": "stream",
     "text": [
      "Generating training feature set for image number =  1040\n"
     ]
    },
    {
     "name": "stdout",
     "output_type": "stream",
     "text": [
      "Generating training feature set for image number =  1050\n"
     ]
    },
    {
     "name": "stdout",
     "output_type": "stream",
     "text": [
      "Generating training feature set for image number =  1060\n"
     ]
    },
    {
     "name": "stdout",
     "output_type": "stream",
     "text": [
      "Generating training feature set for image number =  1070\n"
     ]
    },
    {
     "name": "stdout",
     "output_type": "stream",
     "text": [
      "Generating training feature set for image number =  1080\n"
     ]
    },
    {
     "name": "stdout",
     "output_type": "stream",
     "text": [
      "Generating training feature set for image number =  1090\n"
     ]
    },
    {
     "name": "stdout",
     "output_type": "stream",
     "text": [
      "Generating training feature set for image number =  1100\n"
     ]
    },
    {
     "name": "stdout",
     "output_type": "stream",
     "text": [
      "Generating training feature set for image number =  1110\n"
     ]
    },
    {
     "name": "stdout",
     "output_type": "stream",
     "text": [
      "Generating training feature set for image number =  1120\n"
     ]
    },
    {
     "name": "stdout",
     "output_type": "stream",
     "text": [
      "Generating training feature set for image number =  1130\n"
     ]
    },
    {
     "name": "stdout",
     "output_type": "stream",
     "text": [
      "Generating training feature set for image number =  1140\n"
     ]
    },
    {
     "name": "stdout",
     "output_type": "stream",
     "text": [
      "Generating training feature set for image number =  1150\n"
     ]
    },
    {
     "name": "stdout",
     "output_type": "stream",
     "text": [
      "Generating training feature set for image number =  1160\n"
     ]
    },
    {
     "name": "stdout",
     "output_type": "stream",
     "text": [
      "Generating training feature set for image number =  1170\n"
     ]
    },
    {
     "name": "stdout",
     "output_type": "stream",
     "text": [
      "Generating training feature set for image number =  1180\n"
     ]
    },
    {
     "name": "stdout",
     "output_type": "stream",
     "text": [
      "Generating training feature set for image number =  1190\n"
     ]
    },
    {
     "name": "stdout",
     "output_type": "stream",
     "text": [
      "Generating training feature set for image number =  1200\n"
     ]
    },
    {
     "name": "stdout",
     "output_type": "stream",
     "text": [
      "Generating training feature set for image number =  1210\n"
     ]
    },
    {
     "name": "stdout",
     "output_type": "stream",
     "text": [
      "Generating training feature set for image number =  1220\n"
     ]
    },
    {
     "name": "stdout",
     "output_type": "stream",
     "text": [
      "Generating training feature set for image number =  1230\n"
     ]
    },
    {
     "name": "stdout",
     "output_type": "stream",
     "text": [
      "Generating training feature set for image number =  1240\n"
     ]
    },
    {
     "name": "stdout",
     "output_type": "stream",
     "text": [
      "Generating training feature set for image number =  1250\n"
     ]
    },
    {
     "name": "stdout",
     "output_type": "stream",
     "text": [
      "Generating training feature set for image number =  1260\n"
     ]
    },
    {
     "name": "stdout",
     "output_type": "stream",
     "text": [
      "Generating training feature set for image number =  1270\n"
     ]
    },
    {
     "name": "stdout",
     "output_type": "stream",
     "text": [
      "Generating training feature set for image number =  1280\n"
     ]
    },
    {
     "name": "stdout",
     "output_type": "stream",
     "text": [
      "Generating training feature set for image number =  1290\n"
     ]
    },
    {
     "name": "stdout",
     "output_type": "stream",
     "text": [
      "Generating training feature set for image number =  1300\n"
     ]
    },
    {
     "name": "stdout",
     "output_type": "stream",
     "text": [
      "Generating training feature set for image number =  1310\n"
     ]
    },
    {
     "name": "stdout",
     "output_type": "stream",
     "text": [
      "Generating training feature set for image number =  1320\n"
     ]
    },
    {
     "name": "stdout",
     "output_type": "stream",
     "text": [
      "Generating training feature set for image number =  1330\n"
     ]
    },
    {
     "name": "stdout",
     "output_type": "stream",
     "text": [
      "Generating training feature set for image number =  1340\n"
     ]
    },
    {
     "name": "stdout",
     "output_type": "stream",
     "text": [
      "Generating training feature set for image number =  1350\n"
     ]
    },
    {
     "name": "stdout",
     "output_type": "stream",
     "text": [
      "Generating training feature set for image number =  1360\n"
     ]
    },
    {
     "name": "stdout",
     "output_type": "stream",
     "text": [
      "Generating training feature set for image number =  1370\n"
     ]
    },
    {
     "name": "stdout",
     "output_type": "stream",
     "text": [
      "Generating training feature set for image number =  1380\n"
     ]
    },
    {
     "name": "stdout",
     "output_type": "stream",
     "text": [
      "Generating training feature set for image number =  1390\n"
     ]
    },
    {
     "name": "stdout",
     "output_type": "stream",
     "text": [
      "Generating training feature set for image number =  1400\n"
     ]
    },
    {
     "name": "stdout",
     "output_type": "stream",
     "text": [
      "Generating training feature set for image number =  1410\n"
     ]
    },
    {
     "name": "stdout",
     "output_type": "stream",
     "text": [
      "Generating training feature set for image number =  1420\n"
     ]
    },
    {
     "name": "stdout",
     "output_type": "stream",
     "text": [
      "Generating training feature set for image number =  1430\n"
     ]
    },
    {
     "name": "stdout",
     "output_type": "stream",
     "text": [
      "Generating training feature set for image number =  1440\n"
     ]
    },
    {
     "name": "stdout",
     "output_type": "stream",
     "text": [
      "Generating training feature set for image number =  1450\n"
     ]
    },
    {
     "name": "stdout",
     "output_type": "stream",
     "text": [
      "Generating training feature set for image number =  1460\n"
     ]
    },
    {
     "name": "stdout",
     "output_type": "stream",
     "text": [
      "Generating training feature set for image number =  1470\n"
     ]
    },
    {
     "name": "stdout",
     "output_type": "stream",
     "text": [
      "Generating training feature set for image number =  1480\n"
     ]
    },
    {
     "name": "stdout",
     "output_type": "stream",
     "text": [
      "Generating training feature set for image number =  1490\n"
     ]
    },
    {
     "name": "stdout",
     "output_type": "stream",
     "text": [
      "Generating training feature set for image number =  1500\n"
     ]
    },
    {
     "name": "stdout",
     "output_type": "stream",
     "text": [
      "Generating training feature set for image number =  1510\n"
     ]
    },
    {
     "name": "stdout",
     "output_type": "stream",
     "text": [
      "Generating training feature set for image number =  1520\n"
     ]
    },
    {
     "name": "stdout",
     "output_type": "stream",
     "text": [
      "Generating training feature set for image number =  1530\n"
     ]
    },
    {
     "name": "stdout",
     "output_type": "stream",
     "text": [
      "Generating training feature set for image number =  1540\n"
     ]
    },
    {
     "name": "stdout",
     "output_type": "stream",
     "text": [
      "Generating training feature set for image number =  1550\n"
     ]
    },
    {
     "name": "stdout",
     "output_type": "stream",
     "text": [
      "Generating training feature set for image number =  1560\n"
     ]
    },
    {
     "name": "stdout",
     "output_type": "stream",
     "text": [
      "Generating training feature set for image number =  1570\n"
     ]
    },
    {
     "name": "stdout",
     "output_type": "stream",
     "text": [
      "Generating training feature set for image number =  1580\n"
     ]
    },
    {
     "name": "stdout",
     "output_type": "stream",
     "text": [
      "Generating training feature set for image number =  1590\n"
     ]
    },
    {
     "name": "stdout",
     "output_type": "stream",
     "text": [
      "Generating training feature set for image number =  1600\n"
     ]
    },
    {
     "name": "stdout",
     "output_type": "stream",
     "text": [
      "Generating training feature set for image number =  1610\n"
     ]
    },
    {
     "name": "stdout",
     "output_type": "stream",
     "text": [
      "Generating training feature set for image number =  1620\n"
     ]
    },
    {
     "name": "stdout",
     "output_type": "stream",
     "text": [
      "Generating training feature set for image number =  1630\n"
     ]
    },
    {
     "name": "stdout",
     "output_type": "stream",
     "text": [
      "Generating training feature set for image number =  1640\n"
     ]
    },
    {
     "name": "stdout",
     "output_type": "stream",
     "text": [
      "Generating training feature set for image number =  1650\n"
     ]
    },
    {
     "name": "stdout",
     "output_type": "stream",
     "text": [
      "Generating training feature set for image number =  1660\n"
     ]
    },
    {
     "name": "stdout",
     "output_type": "stream",
     "text": [
      "Generating training feature set for image number =  1670\n"
     ]
    },
    {
     "name": "stdout",
     "output_type": "stream",
     "text": [
      "Generating training feature set for image number =  1680\n"
     ]
    },
    {
     "name": "stdout",
     "output_type": "stream",
     "text": [
      "Generating training feature set for image number =  1690\n"
     ]
    },
    {
     "name": "stdout",
     "output_type": "stream",
     "text": [
      "Generating training feature set for image number =  1700\n"
     ]
    },
    {
     "name": "stdout",
     "output_type": "stream",
     "text": [
      "Generating training feature set for image number =  1710\n"
     ]
    },
    {
     "name": "stdout",
     "output_type": "stream",
     "text": [
      "Generating training feature set for image number =  1720\n"
     ]
    },
    {
     "name": "stdout",
     "output_type": "stream",
     "text": [
      "Generating training feature set for image number =  1730\n"
     ]
    },
    {
     "name": "stdout",
     "output_type": "stream",
     "text": [
      "Generating training feature set for image number =  1740\n"
     ]
    },
    {
     "name": "stdout",
     "output_type": "stream",
     "text": [
      "Generating training feature set for image number =  1750\n"
     ]
    },
    {
     "name": "stdout",
     "output_type": "stream",
     "text": [
      "Generating training feature set for image number =  1760\n"
     ]
    },
    {
     "name": "stdout",
     "output_type": "stream",
     "text": [
      "Generating training feature set for image number =  1770\n"
     ]
    },
    {
     "name": "stdout",
     "output_type": "stream",
     "text": [
      "Generating training feature set for image number =  1780\n"
     ]
    },
    {
     "name": "stdout",
     "output_type": "stream",
     "text": [
      "Generating training feature set for image number =  1790\n"
     ]
    },
    {
     "name": "stdout",
     "output_type": "stream",
     "text": [
      "Generating training feature set for image number =  1800\n"
     ]
    },
    {
     "name": "stdout",
     "output_type": "stream",
     "text": [
      "Generating training feature set for image number =  1810\n"
     ]
    },
    {
     "name": "stdout",
     "output_type": "stream",
     "text": [
      "Generating training feature set for image number =  1820\n"
     ]
    },
    {
     "name": "stdout",
     "output_type": "stream",
     "text": [
      "Generating training feature set for image number =  1830\n"
     ]
    },
    {
     "name": "stdout",
     "output_type": "stream",
     "text": [
      "Generating training feature set for image number =  1840\n"
     ]
    },
    {
     "name": "stdout",
     "output_type": "stream",
     "text": [
      "Generating training feature set for image number =  1850\n"
     ]
    },
    {
     "name": "stdout",
     "output_type": "stream",
     "text": [
      "Generating training feature set for image number =  1860\n"
     ]
    },
    {
     "name": "stdout",
     "output_type": "stream",
     "text": [
      "Generating training feature set for image number =  1870\n"
     ]
    },
    {
     "name": "stdout",
     "output_type": "stream",
     "text": [
      "Generating training feature set for image number =  1880\n"
     ]
    },
    {
     "name": "stdout",
     "output_type": "stream",
     "text": [
      "Generating training feature set for image number =  1890\n"
     ]
    },
    {
     "name": "stdout",
     "output_type": "stream",
     "text": [
      "Generating training feature set for image number =  1900\n"
     ]
    },
    {
     "name": "stdout",
     "output_type": "stream",
     "text": [
      "Generating training feature set for image number =  1910\n"
     ]
    },
    {
     "name": "stdout",
     "output_type": "stream",
     "text": [
      "Generating training feature set for image number =  1920\n"
     ]
    },
    {
     "name": "stdout",
     "output_type": "stream",
     "text": [
      "Generating training feature set for image number =  1930\n"
     ]
    },
    {
     "name": "stdout",
     "output_type": "stream",
     "text": [
      "Generating training feature set for image number =  1940\n"
     ]
    },
    {
     "name": "stdout",
     "output_type": "stream",
     "text": [
      "Generating training feature set for image number =  1950\n"
     ]
    },
    {
     "name": "stdout",
     "output_type": "stream",
     "text": [
      "Generating training feature set for image number =  1960\n"
     ]
    },
    {
     "name": "stdout",
     "output_type": "stream",
     "text": [
      "Generating training feature set for image number =  1970\n"
     ]
    },
    {
     "name": "stdout",
     "output_type": "stream",
     "text": [
      "Generating training feature set for image number =  1980\n"
     ]
    },
    {
     "name": "stdout",
     "output_type": "stream",
     "text": [
      "Generating training feature set for image number =  1990\n"
     ]
    },
    {
     "name": "stdout",
     "output_type": "stream",
     "text": [
      "Generating training feature set for image number =  2000\n"
     ]
    },
    {
     "name": "stdout",
     "output_type": "stream",
     "text": [
      "Generating training feature set for image number =  2010\n"
     ]
    },
    {
     "name": "stdout",
     "output_type": "stream",
     "text": [
      "Generating training feature set for image number =  2020\n"
     ]
    },
    {
     "name": "stdout",
     "output_type": "stream",
     "text": [
      "Generating training feature set for image number =  2030\n"
     ]
    },
    {
     "name": "stdout",
     "output_type": "stream",
     "text": [
      "Generating training feature set for image number =  2040\n"
     ]
    },
    {
     "name": "stdout",
     "output_type": "stream",
     "text": [
      "Generating training feature set for image number =  2050\n"
     ]
    },
    {
     "name": "stdout",
     "output_type": "stream",
     "text": [
      "Generating training feature set for image number =  2060\n"
     ]
    },
    {
     "name": "stdout",
     "output_type": "stream",
     "text": [
      "Generating training feature set for image number =  2070\n"
     ]
    },
    {
     "name": "stdout",
     "output_type": "stream",
     "text": [
      "Generating training feature set for image number =  2080\n"
     ]
    },
    {
     "name": "stdout",
     "output_type": "stream",
     "text": [
      "Generating training feature set for image number =  2090\n"
     ]
    },
    {
     "name": "stdout",
     "output_type": "stream",
     "text": [
      "Generating training feature set for image number =  2100\n"
     ]
    },
    {
     "name": "stdout",
     "output_type": "stream",
     "text": [
      "Generating training feature set for image number =  2110\n"
     ]
    },
    {
     "name": "stdout",
     "output_type": "stream",
     "text": [
      "Generating training feature set for image number =  2120\n"
     ]
    },
    {
     "name": "stdout",
     "output_type": "stream",
     "text": [
      "Generating training feature set for image number =  2130\n"
     ]
    },
    {
     "name": "stdout",
     "output_type": "stream",
     "text": [
      "Generating training feature set for image number =  2140\n"
     ]
    },
    {
     "name": "stdout",
     "output_type": "stream",
     "text": [
      "Generating training feature set for image number =  2150\n"
     ]
    },
    {
     "name": "stdout",
     "output_type": "stream",
     "text": [
      "Generating training feature set for image number =  2160\n"
     ]
    },
    {
     "name": "stdout",
     "output_type": "stream",
     "text": [
      "Generating training feature set for image number =  2170\n"
     ]
    },
    {
     "name": "stdout",
     "output_type": "stream",
     "text": [
      "Generating training feature set for image number =  2180\n"
     ]
    },
    {
     "name": "stdout",
     "output_type": "stream",
     "text": [
      "Generating training feature set for image number =  2190\n"
     ]
    },
    {
     "name": "stdout",
     "output_type": "stream",
     "text": [
      "Generating training feature set for image number =  2200\n"
     ]
    },
    {
     "name": "stdout",
     "output_type": "stream",
     "text": [
      "Generating training feature set for image number =  2210\n"
     ]
    },
    {
     "name": "stdout",
     "output_type": "stream",
     "text": [
      "Generating training feature set for image number =  2220\n"
     ]
    },
    {
     "name": "stdout",
     "output_type": "stream",
     "text": [
      "Generating training feature set for image number =  2230\n"
     ]
    },
    {
     "name": "stdout",
     "output_type": "stream",
     "text": [
      "Generating training feature set for image number =  2240\n"
     ]
    },
    {
     "name": "stdout",
     "output_type": "stream",
     "text": [
      "Generating training feature set for image number =  2250\n"
     ]
    },
    {
     "name": "stdout",
     "output_type": "stream",
     "text": [
      "Generating training feature set for image number =  2260\n"
     ]
    },
    {
     "name": "stdout",
     "output_type": "stream",
     "text": [
      "Generating training feature set for image number =  2270\n"
     ]
    },
    {
     "name": "stdout",
     "output_type": "stream",
     "text": [
      "Generating training feature set for image number =  2280\n"
     ]
    },
    {
     "name": "stdout",
     "output_type": "stream",
     "text": [
      "Generating training feature set for image number =  2290\n"
     ]
    },
    {
     "name": "stdout",
     "output_type": "stream",
     "text": [
      "Generating training feature set for image number =  2300\n"
     ]
    },
    {
     "name": "stdout",
     "output_type": "stream",
     "text": [
      "Generating training feature set for image number =  2310\n"
     ]
    },
    {
     "name": "stdout",
     "output_type": "stream",
     "text": [
      "Generating training feature set for image number =  2320\n"
     ]
    },
    {
     "name": "stdout",
     "output_type": "stream",
     "text": [
      "Generating training feature set for image number =  2330\n"
     ]
    },
    {
     "name": "stdout",
     "output_type": "stream",
     "text": [
      "Generating training feature set for image number =  2340\n"
     ]
    },
    {
     "name": "stdout",
     "output_type": "stream",
     "text": [
      "Generating training feature set for image number =  2350\n"
     ]
    },
    {
     "name": "stdout",
     "output_type": "stream",
     "text": [
      "Generating training feature set for image number =  2360\n"
     ]
    },
    {
     "name": "stdout",
     "output_type": "stream",
     "text": [
      "Generating training feature set for image number =  2370\n"
     ]
    },
    {
     "name": "stdout",
     "output_type": "stream",
     "text": [
      "Generating training feature set for image number =  2380\n"
     ]
    },
    {
     "name": "stdout",
     "output_type": "stream",
     "text": [
      "Generating training feature set for image number =  2390\n"
     ]
    },
    {
     "name": "stdout",
     "output_type": "stream",
     "text": [
      "Generating training feature set for image number =  2400\n"
     ]
    },
    {
     "name": "stdout",
     "output_type": "stream",
     "text": [
      "Generating training feature set for image number =  2410\n"
     ]
    },
    {
     "name": "stdout",
     "output_type": "stream",
     "text": [
      "Generating training feature set for image number =  2420\n"
     ]
    },
    {
     "name": "stdout",
     "output_type": "stream",
     "text": [
      "Generating training feature set for image number =  2430\n"
     ]
    },
    {
     "name": "stdout",
     "output_type": "stream",
     "text": [
      "Generating training feature set for image number =  2440\n"
     ]
    },
    {
     "name": "stdout",
     "output_type": "stream",
     "text": [
      "Generating training feature set for image number =  2450\n"
     ]
    },
    {
     "name": "stdout",
     "output_type": "stream",
     "text": [
      "Generating training feature set for image number =  2460\n"
     ]
    },
    {
     "name": "stdout",
     "output_type": "stream",
     "text": [
      "Generating training feature set for image number =  2470\n"
     ]
    },
    {
     "name": "stdout",
     "output_type": "stream",
     "text": [
      "Generating training feature set for image number =  2480\n"
     ]
    },
    {
     "name": "stdout",
     "output_type": "stream",
     "text": [
      "Generating training feature set for image number =  2490\n"
     ]
    },
    {
     "name": "stdout",
     "output_type": "stream",
     "text": [
      "Generating training feature set for image number =  2500\n"
     ]
    },
    {
     "name": "stdout",
     "output_type": "stream",
     "text": [
      "Generating training feature set for image number =  2510\n"
     ]
    },
    {
     "name": "stdout",
     "output_type": "stream",
     "text": [
      "Generating training feature set for image number =  2520\n"
     ]
    },
    {
     "name": "stdout",
     "output_type": "stream",
     "text": [
      "Generating training feature set for image number =  2530\n"
     ]
    },
    {
     "name": "stdout",
     "output_type": "stream",
     "text": [
      "Generating training feature set for image number =  2540\n"
     ]
    },
    {
     "name": "stdout",
     "output_type": "stream",
     "text": [
      "Generating training feature set for image number =  2550\n"
     ]
    },
    {
     "name": "stdout",
     "output_type": "stream",
     "text": [
      "Generating training feature set for image number =  2560\n"
     ]
    },
    {
     "name": "stdout",
     "output_type": "stream",
     "text": [
      "Generating training feature set for image number =  2570\n"
     ]
    },
    {
     "name": "stdout",
     "output_type": "stream",
     "text": [
      "Generating training feature set for image number =  2580\n"
     ]
    },
    {
     "name": "stdout",
     "output_type": "stream",
     "text": [
      "Generating training feature set for image number =  2590\n"
     ]
    },
    {
     "name": "stdout",
     "output_type": "stream",
     "text": [
      "Generating training feature set for image number =  2600\n"
     ]
    },
    {
     "name": "stdout",
     "output_type": "stream",
     "text": [
      "Generating training feature set for image number =  2610\n"
     ]
    },
    {
     "name": "stdout",
     "output_type": "stream",
     "text": [
      "Generating training feature set for image number =  2620\n"
     ]
    },
    {
     "name": "stdout",
     "output_type": "stream",
     "text": [
      "Generating training feature set for image number =  2630\n"
     ]
    },
    {
     "name": "stdout",
     "output_type": "stream",
     "text": [
      "Generating training feature set for image number =  2640\n"
     ]
    },
    {
     "name": "stdout",
     "output_type": "stream",
     "text": [
      "Generating training feature set for image number =  2650\n"
     ]
    },
    {
     "name": "stdout",
     "output_type": "stream",
     "text": [
      "Generating training feature set for image number =  2660\n"
     ]
    },
    {
     "name": "stdout",
     "output_type": "stream",
     "text": [
      "Generating training feature set for image number =  2670\n"
     ]
    },
    {
     "name": "stdout",
     "output_type": "stream",
     "text": [
      "Generating training feature set for image number =  2680\n"
     ]
    },
    {
     "name": "stdout",
     "output_type": "stream",
     "text": [
      "Generating training feature set for image number =  2690\n"
     ]
    },
    {
     "name": "stdout",
     "output_type": "stream",
     "text": [
      "Generating training feature set for image number =  2700\n"
     ]
    },
    {
     "name": "stdout",
     "output_type": "stream",
     "text": [
      "Generating training feature set for image number =  2710\n"
     ]
    },
    {
     "name": "stdout",
     "output_type": "stream",
     "text": [
      "Generating training feature set for image number =  2720\n"
     ]
    },
    {
     "name": "stdout",
     "output_type": "stream",
     "text": [
      "Generating training feature set for image number =  2730\n"
     ]
    },
    {
     "name": "stdout",
     "output_type": "stream",
     "text": [
      "Generating training feature set for image number =  2740\n"
     ]
    },
    {
     "name": "stdout",
     "output_type": "stream",
     "text": [
      "Generating training feature set for image number =  2750\n"
     ]
    },
    {
     "name": "stdout",
     "output_type": "stream",
     "text": [
      "Generating training feature set for image number =  2760\n"
     ]
    },
    {
     "name": "stdout",
     "output_type": "stream",
     "text": [
      "Generating training feature set for image number =  2770\n"
     ]
    },
    {
     "name": "stdout",
     "output_type": "stream",
     "text": [
      "Generating training feature set for image number =  2780\n"
     ]
    },
    {
     "name": "stdout",
     "output_type": "stream",
     "text": [
      "Generating training feature set for image number =  2790\n"
     ]
    },
    {
     "name": "stdout",
     "output_type": "stream",
     "text": [
      "Generating training feature set for image number =  2800\n"
     ]
    },
    {
     "name": "stdout",
     "output_type": "stream",
     "text": [
      "Generating training feature set for image number =  2810\n"
     ]
    },
    {
     "name": "stdout",
     "output_type": "stream",
     "text": [
      "Generating training feature set for image number =  2820\n"
     ]
    },
    {
     "name": "stdout",
     "output_type": "stream",
     "text": [
      "Generating training feature set for image number =  2830\n"
     ]
    },
    {
     "name": "stdout",
     "output_type": "stream",
     "text": [
      "Generating training feature set for image number =  2840\n"
     ]
    },
    {
     "name": "stdout",
     "output_type": "stream",
     "text": [
      "Generating training feature set for image number =  2850\n"
     ]
    },
    {
     "name": "stdout",
     "output_type": "stream",
     "text": [
      "Generating training feature set for image number =  2860\n"
     ]
    },
    {
     "name": "stdout",
     "output_type": "stream",
     "text": [
      "Generating training feature set for image number =  2870\n"
     ]
    },
    {
     "name": "stdout",
     "output_type": "stream",
     "text": [
      "Generating training feature set for image number =  2880\n"
     ]
    },
    {
     "name": "stdout",
     "output_type": "stream",
     "text": [
      "Generating training feature set for image number =  2890\n"
     ]
    },
    {
     "name": "stdout",
     "output_type": "stream",
     "text": [
      "Generating training feature set for image number =  2900\n"
     ]
    },
    {
     "name": "stdout",
     "output_type": "stream",
     "text": [
      "Generating training feature set for image number =  2910\n"
     ]
    },
    {
     "name": "stdout",
     "output_type": "stream",
     "text": [
      "Generating training feature set for image number =  2920\n"
     ]
    },
    {
     "name": "stdout",
     "output_type": "stream",
     "text": [
      "Generating training feature set for image number =  2930\n"
     ]
    },
    {
     "name": "stdout",
     "output_type": "stream",
     "text": [
      "Generating training feature set for image number =  2940\n"
     ]
    },
    {
     "name": "stdout",
     "output_type": "stream",
     "text": [
      "Generating training feature set for image number =  2950\n"
     ]
    },
    {
     "name": "stdout",
     "output_type": "stream",
     "text": [
      "Generating training feature set for image number =  2960\n"
     ]
    },
    {
     "name": "stdout",
     "output_type": "stream",
     "text": [
      "Generating training feature set for image number =  2970\n"
     ]
    },
    {
     "name": "stdout",
     "output_type": "stream",
     "text": [
      "Generating training feature set for image number =  2980\n"
     ]
    },
    {
     "name": "stdout",
     "output_type": "stream",
     "text": [
      "Generating training feature set for image number =  2990\n"
     ]
    },
    {
     "name": "stdout",
     "output_type": "stream",
     "text": [
      "Generating training feature set for image number =  3000\n"
     ]
    },
    {
     "name": "stdout",
     "output_type": "stream",
     "text": [
      "Generating training feature set for image number =  3010\n"
     ]
    },
    {
     "name": "stdout",
     "output_type": "stream",
     "text": [
      "Generating training feature set for image number =  3020\n"
     ]
    },
    {
     "name": "stdout",
     "output_type": "stream",
     "text": [
      "Generating training feature set for image number =  3030\n"
     ]
    },
    {
     "name": "stdout",
     "output_type": "stream",
     "text": [
      "Generating training feature set for image number =  3040\n"
     ]
    },
    {
     "name": "stdout",
     "output_type": "stream",
     "text": [
      "Generating training feature set for image number =  3050\n"
     ]
    },
    {
     "name": "stdout",
     "output_type": "stream",
     "text": [
      "Generating training feature set for image number =  3060\n"
     ]
    },
    {
     "name": "stdout",
     "output_type": "stream",
     "text": [
      "Generating training feature set for image number =  3070\n"
     ]
    },
    {
     "name": "stdout",
     "output_type": "stream",
     "text": [
      "Generating training feature set for image number =  3080\n"
     ]
    },
    {
     "name": "stdout",
     "output_type": "stream",
     "text": [
      "Generating training feature set for image number =  3090\n"
     ]
    },
    {
     "name": "stdout",
     "output_type": "stream",
     "text": [
      "Generating training feature set for image number =  3100\n"
     ]
    },
    {
     "name": "stdout",
     "output_type": "stream",
     "text": [
      "Generating training feature set for image number =  3110\n"
     ]
    },
    {
     "name": "stdout",
     "output_type": "stream",
     "text": [
      "Generating training feature set for image number =  3120\n"
     ]
    },
    {
     "name": "stdout",
     "output_type": "stream",
     "text": [
      "Generating training feature set for image number =  3130\n"
     ]
    },
    {
     "name": "stdout",
     "output_type": "stream",
     "text": [
      "Generating training feature set for image number =  3140\n"
     ]
    },
    {
     "name": "stdout",
     "output_type": "stream",
     "text": [
      "Generating training feature set for image number =  3150\n"
     ]
    },
    {
     "name": "stdout",
     "output_type": "stream",
     "text": [
      "Generating training feature set for image number =  3160\n"
     ]
    },
    {
     "name": "stdout",
     "output_type": "stream",
     "text": [
      "Generating training feature set for image number =  3170\n"
     ]
    },
    {
     "name": "stdout",
     "output_type": "stream",
     "text": [
      "Generating training feature set for image number =  3180\n"
     ]
    },
    {
     "name": "stdout",
     "output_type": "stream",
     "text": [
      "Generating training feature set for image number =  3190\n"
     ]
    },
    {
     "name": "stdout",
     "output_type": "stream",
     "text": [
      "Generating training feature set for image number =  3200\n"
     ]
    },
    {
     "name": "stdout",
     "output_type": "stream",
     "text": [
      "Generating training feature set for image number =  3210\n"
     ]
    },
    {
     "name": "stdout",
     "output_type": "stream",
     "text": [
      "Generating training feature set for image number =  3220\n"
     ]
    },
    {
     "name": "stdout",
     "output_type": "stream",
     "text": [
      "Generating training feature set for image number =  3230\n"
     ]
    },
    {
     "name": "stdout",
     "output_type": "stream",
     "text": [
      "Generating training feature set for image number =  3240\n"
     ]
    },
    {
     "name": "stdout",
     "output_type": "stream",
     "text": [
      "Generating training feature set for image number =  3250\n"
     ]
    },
    {
     "name": "stdout",
     "output_type": "stream",
     "text": [
      "Generating training feature set for image number =  3260\n"
     ]
    },
    {
     "name": "stdout",
     "output_type": "stream",
     "text": [
      "Generating training feature set for image number =  3270\n"
     ]
    },
    {
     "name": "stdout",
     "output_type": "stream",
     "text": [
      "Generating training feature set for image number =  3280\n"
     ]
    },
    {
     "name": "stdout",
     "output_type": "stream",
     "text": [
      "Generating training feature set for image number =  3290\n"
     ]
    },
    {
     "name": "stdout",
     "output_type": "stream",
     "text": [
      "Generating training feature set for image number =  3300\n"
     ]
    },
    {
     "name": "stdout",
     "output_type": "stream",
     "text": [
      "Generating training feature set for image number =  3310\n"
     ]
    },
    {
     "name": "stdout",
     "output_type": "stream",
     "text": [
      "Generating training feature set for image number =  3320\n"
     ]
    },
    {
     "name": "stdout",
     "output_type": "stream",
     "text": [
      "Generating training feature set for image number =  3330\n"
     ]
    },
    {
     "name": "stdout",
     "output_type": "stream",
     "text": [
      "Generating training feature set for image number =  3340\n"
     ]
    },
    {
     "name": "stdout",
     "output_type": "stream",
     "text": [
      "Generating training feature set for image number =  3350\n"
     ]
    },
    {
     "name": "stdout",
     "output_type": "stream",
     "text": [
      "Generating training feature set for image number =  3360\n"
     ]
    },
    {
     "name": "stdout",
     "output_type": "stream",
     "text": [
      "Generating training feature set for image number =  3370\n"
     ]
    },
    {
     "name": "stdout",
     "output_type": "stream",
     "text": [
      "Generating training feature set for image number =  3380\n"
     ]
    },
    {
     "name": "stdout",
     "output_type": "stream",
     "text": [
      "Generating training feature set for image number =  3390\n"
     ]
    },
    {
     "name": "stdout",
     "output_type": "stream",
     "text": [
      "Generating training feature set for image number =  3400\n"
     ]
    },
    {
     "name": "stdout",
     "output_type": "stream",
     "text": [
      "Generating training feature set for image number =  3410\n"
     ]
    },
    {
     "name": "stdout",
     "output_type": "stream",
     "text": [
      "Generating training feature set for image number =  3420\n"
     ]
    },
    {
     "name": "stdout",
     "output_type": "stream",
     "text": [
      "Generating training feature set for image number =  3430\n"
     ]
    },
    {
     "name": "stdout",
     "output_type": "stream",
     "text": [
      "Generating training feature set for image number =  3440\n"
     ]
    },
    {
     "name": "stdout",
     "output_type": "stream",
     "text": [
      "Generating training feature set for image number =  3450\n"
     ]
    },
    {
     "name": "stdout",
     "output_type": "stream",
     "text": [
      "Generating training feature set for image number =  3460\n"
     ]
    },
    {
     "name": "stdout",
     "output_type": "stream",
     "text": [
      "Generating training feature set for image number =  3470\n"
     ]
    },
    {
     "name": "stdout",
     "output_type": "stream",
     "text": [
      "Generating training feature set for image number =  3480\n"
     ]
    },
    {
     "name": "stdout",
     "output_type": "stream",
     "text": [
      "Generating training feature set for image number =  3490\n"
     ]
    },
    {
     "name": "stdout",
     "output_type": "stream",
     "text": [
      "Generating training feature set for image number =  3500\n"
     ]
    },
    {
     "name": "stdout",
     "output_type": "stream",
     "text": [
      "Generating training feature set for image number =  3510\n"
     ]
    },
    {
     "name": "stdout",
     "output_type": "stream",
     "text": [
      "Generating training feature set for image number =  3520\n"
     ]
    },
    {
     "name": "stdout",
     "output_type": "stream",
     "text": [
      "Generating training feature set for image number =  3530\n"
     ]
    },
    {
     "name": "stdout",
     "output_type": "stream",
     "text": [
      "Generating training feature set for image number =  3540\n"
     ]
    },
    {
     "name": "stdout",
     "output_type": "stream",
     "text": [
      "Generating training feature set for image number =  3550\n"
     ]
    },
    {
     "name": "stdout",
     "output_type": "stream",
     "text": [
      "Generating training feature set for image number =  3560\n"
     ]
    },
    {
     "name": "stdout",
     "output_type": "stream",
     "text": [
      "Generating training feature set for image number =  3570\n"
     ]
    },
    {
     "name": "stdout",
     "output_type": "stream",
     "text": [
      "Generating training feature set for image number =  3580\n"
     ]
    },
    {
     "name": "stdout",
     "output_type": "stream",
     "text": [
      "Generating training feature set for image number =  3590\n"
     ]
    },
    {
     "name": "stdout",
     "output_type": "stream",
     "text": [
      "Generating training feature set for image number =  3600\n"
     ]
    },
    {
     "name": "stdout",
     "output_type": "stream",
     "text": [
      "Generating training feature set for image number =  3610\n"
     ]
    },
    {
     "name": "stdout",
     "output_type": "stream",
     "text": [
      "Generating training feature set for image number =  3620\n"
     ]
    },
    {
     "name": "stdout",
     "output_type": "stream",
     "text": [
      "Generating training feature set for image number =  3630\n"
     ]
    },
    {
     "name": "stdout",
     "output_type": "stream",
     "text": [
      "Generating training feature set for image number =  3640\n"
     ]
    },
    {
     "name": "stdout",
     "output_type": "stream",
     "text": [
      "Generating training feature set for image number =  3650\n"
     ]
    },
    {
     "name": "stdout",
     "output_type": "stream",
     "text": [
      "Generating training feature set for image number =  3660\n"
     ]
    },
    {
     "name": "stdout",
     "output_type": "stream",
     "text": [
      "Generating training feature set for image number =  3670\n"
     ]
    },
    {
     "name": "stdout",
     "output_type": "stream",
     "text": [
      "Generating training feature set for image number =  3680\n"
     ]
    },
    {
     "name": "stdout",
     "output_type": "stream",
     "text": [
      "Generating training feature set for image number =  3690\n"
     ]
    },
    {
     "name": "stdout",
     "output_type": "stream",
     "text": [
      "Generating training feature set for image number =  3700\n"
     ]
    },
    {
     "name": "stdout",
     "output_type": "stream",
     "text": [
      "Generating training feature set for image number =  3710\n"
     ]
    },
    {
     "name": "stdout",
     "output_type": "stream",
     "text": [
      "Generating training feature set for image number =  3720\n"
     ]
    },
    {
     "name": "stdout",
     "output_type": "stream",
     "text": [
      "Generating training feature set for image number =  3730\n"
     ]
    },
    {
     "name": "stdout",
     "output_type": "stream",
     "text": [
      "Generating training feature set for image number =  3740\n"
     ]
    },
    {
     "name": "stdout",
     "output_type": "stream",
     "text": [
      "Generating training feature set for image number =  3750\n"
     ]
    },
    {
     "name": "stdout",
     "output_type": "stream",
     "text": [
      "Generating training feature set for image number =  3760\n"
     ]
    },
    {
     "name": "stdout",
     "output_type": "stream",
     "text": [
      "Generating training feature set for image number =  3770\n"
     ]
    },
    {
     "name": "stdout",
     "output_type": "stream",
     "text": [
      "Generating training feature set for image number =  3780\n"
     ]
    },
    {
     "name": "stdout",
     "output_type": "stream",
     "text": [
      "Generating training feature set for image number =  3790\n"
     ]
    },
    {
     "name": "stdout",
     "output_type": "stream",
     "text": [
      "Generating training feature set for image number =  3800\n"
     ]
    },
    {
     "name": "stdout",
     "output_type": "stream",
     "text": [
      "Generating training feature set for image number =  3810\n"
     ]
    },
    {
     "name": "stdout",
     "output_type": "stream",
     "text": [
      "Generating training feature set for image number =  3820\n"
     ]
    },
    {
     "name": "stdout",
     "output_type": "stream",
     "text": [
      "Generating training feature set for image number =  3830\n"
     ]
    },
    {
     "name": "stdout",
     "output_type": "stream",
     "text": [
      "Generating training feature set for image number =  3840\n"
     ]
    },
    {
     "name": "stdout",
     "output_type": "stream",
     "text": [
      "Generating training feature set for image number =  3850\n"
     ]
    },
    {
     "name": "stdout",
     "output_type": "stream",
     "text": [
      "Generating training feature set for image number =  3860\n"
     ]
    },
    {
     "name": "stdout",
     "output_type": "stream",
     "text": [
      "Generating training feature set for image number =  3870\n"
     ]
    },
    {
     "name": "stdout",
     "output_type": "stream",
     "text": [
      "Generating training feature set for image number =  3880\n"
     ]
    },
    {
     "name": "stdout",
     "output_type": "stream",
     "text": [
      "Generating training feature set for image number =  3890\n"
     ]
    },
    {
     "name": "stdout",
     "output_type": "stream",
     "text": [
      "Generating training feature set for image number =  3900\n"
     ]
    },
    {
     "name": "stdout",
     "output_type": "stream",
     "text": [
      "Generating training feature set for image number =  3910\n"
     ]
    },
    {
     "name": "stdout",
     "output_type": "stream",
     "text": [
      "Generating validation feature set for image number =  0\n"
     ]
    },
    {
     "name": "stdout",
     "output_type": "stream",
     "text": [
      "Generating validation feature set for image number =  10\n"
     ]
    },
    {
     "name": "stdout",
     "output_type": "stream",
     "text": [
      "Generating validation feature set for image number =  20\n"
     ]
    },
    {
     "name": "stdout",
     "output_type": "stream",
     "text": [
      "Generating validation feature set for image number =  30\n"
     ]
    },
    {
     "name": "stdout",
     "output_type": "stream",
     "text": [
      "Generating validation feature set for image number =  40\n"
     ]
    },
    {
     "name": "stdout",
     "output_type": "stream",
     "text": [
      "Generating validation feature set for image number =  50\n"
     ]
    },
    {
     "name": "stdout",
     "output_type": "stream",
     "text": [
      "Generating validation feature set for image number =  60\n"
     ]
    },
    {
     "name": "stdout",
     "output_type": "stream",
     "text": [
      "Generating validation feature set for image number =  70\n"
     ]
    },
    {
     "name": "stdout",
     "output_type": "stream",
     "text": [
      "Generating validation feature set for image number =  80\n"
     ]
    },
    {
     "name": "stdout",
     "output_type": "stream",
     "text": [
      "Generating validation feature set for image number =  90\n"
     ]
    },
    {
     "name": "stdout",
     "output_type": "stream",
     "text": [
      "Generating validation feature set for image number =  100\n"
     ]
    },
    {
     "name": "stdout",
     "output_type": "stream",
     "text": [
      "Generating validation feature set for image number =  110\n"
     ]
    },
    {
     "name": "stdout",
     "output_type": "stream",
     "text": [
      "Generating validation feature set for image number =  120\n"
     ]
    },
    {
     "name": "stdout",
     "output_type": "stream",
     "text": [
      "Generating validation feature set for image number =  130\n"
     ]
    },
    {
     "name": "stdout",
     "output_type": "stream",
     "text": [
      "Generating validation feature set for image number =  140\n"
     ]
    },
    {
     "name": "stdout",
     "output_type": "stream",
     "text": [
      "Generating validation feature set for image number =  150\n"
     ]
    },
    {
     "name": "stdout",
     "output_type": "stream",
     "text": [
      "Generating validation feature set for image number =  160\n"
     ]
    },
    {
     "name": "stdout",
     "output_type": "stream",
     "text": [
      "Generating validation feature set for image number =  170\n"
     ]
    },
    {
     "name": "stdout",
     "output_type": "stream",
     "text": [
      "Generating validation feature set for image number =  180\n"
     ]
    },
    {
     "name": "stdout",
     "output_type": "stream",
     "text": [
      "Generating validation feature set for image number =  190\n"
     ]
    },
    {
     "name": "stdout",
     "output_type": "stream",
     "text": [
      "Generating validation feature set for image number =  200\n"
     ]
    },
    {
     "name": "stdout",
     "output_type": "stream",
     "text": [
      "Generating validation feature set for image number =  210\n"
     ]
    },
    {
     "name": "stdout",
     "output_type": "stream",
     "text": [
      "Generating validation feature set for image number =  220\n"
     ]
    },
    {
     "name": "stdout",
     "output_type": "stream",
     "text": [
      "Generating validation feature set for image number =  230\n"
     ]
    },
    {
     "name": "stdout",
     "output_type": "stream",
     "text": [
      "Generating validation feature set for image number =  240\n"
     ]
    },
    {
     "name": "stdout",
     "output_type": "stream",
     "text": [
      "Generating validation feature set for image number =  250\n"
     ]
    },
    {
     "name": "stdout",
     "output_type": "stream",
     "text": [
      "Generating validation feature set for image number =  260\n"
     ]
    },
    {
     "name": "stdout",
     "output_type": "stream",
     "text": [
      "Generating validation feature set for image number =  270\n"
     ]
    },
    {
     "name": "stdout",
     "output_type": "stream",
     "text": [
      "Generating validation feature set for image number =  280\n"
     ]
    },
    {
     "name": "stdout",
     "output_type": "stream",
     "text": [
      "Generating validation feature set for image number =  290\n"
     ]
    },
    {
     "name": "stdout",
     "output_type": "stream",
     "text": [
      "Generating validation feature set for image number =  300\n"
     ]
    },
    {
     "name": "stdout",
     "output_type": "stream",
     "text": [
      "Generating validation feature set for image number =  310\n"
     ]
    },
    {
     "name": "stdout",
     "output_type": "stream",
     "text": [
      "Generating validation feature set for image number =  320\n"
     ]
    },
    {
     "name": "stdout",
     "output_type": "stream",
     "text": [
      "Generating validation feature set for image number =  330\n"
     ]
    },
    {
     "name": "stdout",
     "output_type": "stream",
     "text": [
      "Generating validation feature set for image number =  340\n"
     ]
    },
    {
     "name": "stdout",
     "output_type": "stream",
     "text": [
      "Generating validation feature set for image number =  350\n"
     ]
    },
    {
     "name": "stdout",
     "output_type": "stream",
     "text": [
      "Generating validation feature set for image number =  360\n"
     ]
    },
    {
     "name": "stdout",
     "output_type": "stream",
     "text": [
      "Generating validation feature set for image number =  370\n"
     ]
    },
    {
     "name": "stdout",
     "output_type": "stream",
     "text": [
      "Generating validation feature set for image number =  380\n"
     ]
    },
    {
     "name": "stdout",
     "output_type": "stream",
     "text": [
      "Generating validation feature set for image number =  390\n"
     ]
    },
    {
     "name": "stdout",
     "output_type": "stream",
     "text": [
      "Generating validation feature set for image number =  400\n"
     ]
    },
    {
     "name": "stdout",
     "output_type": "stream",
     "text": [
      "Generating validation feature set for image number =  410\n"
     ]
    },
    {
     "name": "stdout",
     "output_type": "stream",
     "text": [
      "Generating validation feature set for image number =  420\n"
     ]
    },
    {
     "name": "stdout",
     "output_type": "stream",
     "text": [
      "Generating validation feature set for image number =  430\n"
     ]
    },
    {
     "name": "stdout",
     "output_type": "stream",
     "text": [
      "Generating validation feature set for image number =  440\n"
     ]
    },
    {
     "name": "stdout",
     "output_type": "stream",
     "text": [
      "Generating validation feature set for image number =  450\n"
     ]
    },
    {
     "name": "stdout",
     "output_type": "stream",
     "text": [
      "Generating validation feature set for image number =  460\n"
     ]
    },
    {
     "name": "stdout",
     "output_type": "stream",
     "text": [
      "Generating validation feature set for image number =  470\n"
     ]
    },
    {
     "name": "stdout",
     "output_type": "stream",
     "text": [
      "Generating validation feature set for image number =  480\n"
     ]
    }
   ],
   "source": [
    "# Set up Inception CNN.\n",
    "tf.reset_default_graph()\n",
    "f = tf.gfile.FastGFile(\"model/classify_image_graph_def.pb\", 'rb')\n",
    "graph_def = tf.GraphDef()\n",
    "graph_def.ParseFromString(f.read())\n",
    "tf.import_graph_def(graph_def, name='')\n",
    "sess = tf.Session()\n",
    "\n",
    "if os.path.exists (\"SavedFeatures/tr_f.npy\"):\n",
    "\n",
    "    tr_features = np.load(\"SavedFeatures/tr_f.npy\")\n",
    "    tr_labels = np.load(\"SavedFeatures/tr_l.npy\")\n",
    "    va_features = np.load(\"SavedFeatures/va_f.npy\")\n",
    "    va_labels = np.load(\"SavedFeatures/va_l.npy\")\n",
    "\n",
    "else:\n",
    "\n",
    "    os.makedirs(\"SavedFeatures\")\n",
    "    \n",
    "    pool3 = sess.graph.get_tensor_by_name('pool_3:0')\n",
    "\n",
    "    tr_features = np.empty((len(ww_f_tr), 2048), dtype='float32')\n",
    "    tr_labels = np.empty(len(ww_l_tr), dtype='int')\n",
    "    for i in range(len(ww_f_tr)):\n",
    "        image_f = \"wines_t/WW%04d.jpeg\" % (i)\n",
    "        image = tf.gfile.FastGFile(image_f, 'rb').read()\n",
    "        tr_features[i] = sess.run(pool3, {'DecodeJpeg/contents:0': image})[0][0][0]\n",
    "        tr_labels[i] = ww_l_tr[i]\n",
    "        if i % 100 == 0:\n",
    "            print(\"Generating training feature set for image number = \", i)\n",
    "\n",
    "    va_features = np.empty((len(ww_f_va), 2048), dtype='float32')\n",
    "    va_labels = np.empty(len(ww_l_va), dtype='int')\n",
    "    for i in range(len(ww_f_va)):\n",
    "        image_f = \"wines_v/WW%04d.jpeg\" % (i)\n",
    "        image = tf.gfile.FastGFile(image_f, 'rb').read()\n",
    "        va_features[i] = sess.run(pool3, {'DecodeJpeg/contents:0': image})[0][0][0]\n",
    "        va_labels[i] = ww_l_va[i]\n",
    "        if i % 100 == 0:\n",
    "            print(\"Generating validation feature set for image number = \", i)\n",
    "\n",
    "\n",
    "    np.save(\"SavedFeatures/tr_f.npy\", tr_features)\n",
    "    np.save(\"SavedFeatures/tr_l.npy\", tr_labels)\n",
    "    np.save(\"SavedFeatures/va_f.npy\", va_features)\n",
    "    np.save(\"SavedFeatures/va_l.npy\", va_labels)\n"
   ]
  },
  {
   "cell_type": "markdown",
   "metadata": {},
   "source": [
    "Now train and assess our KNN based on the features extracted from the images."
   ]
  },
  {
   "cell_type": "code",
   "execution_count": 29,
   "metadata": {},
   "outputs": [
    {
     "name": "stdout",
     "output_type": "stream",
     "text": [
      "Prediction =  5 Actual =  6  Probabilities =  [ 0.19024415  0.          0.42606823  0.38368762  0.          0.          0.        ]\nPrediction =  5 Actual =  7  Probabilities =  [ 0.  0.  1.  0.  0.  0.  0.]\nPrediction =  6 Actual =  5  Probabilities =  [ 0.          0.          0.16458882  0.83541118  0.          0.          0.        ]\nPrediction =  5 Actual =  6  Probabilities =  [ 0.  0.  1.  0.  0.  0.  0.]\nPrediction =  5 Actual =  7  Probabilities =  [ 0.          0.          0.63259922  0.36740078  0.          0.          0.        ]\n"
     ]
    },
    {
     "name": "stdout",
     "output_type": "stream",
     "text": [
      "Prediction =  5 Actual =  6  Probabilities =  [ 0.          0.          0.52728993  0.31720286  0.1555072   0.          0.        ]\nPrediction =  5 Actual =  7  Probabilities =  [ 0.          0.          0.36790688  0.34547989  0.28661323  0.          0.        ]\nPrediction =  6 Actual =  6  Probabilities =  [ 0.          0.          0.          0.67658449  0.32341551  0.          0.        ]\nPrediction =  7 Actual =  6  Probabilities =  [ 0.          0.          0.16858536  0.          0.52601957  0.30539508\n  0.        ]\nPrediction =  5 Actual =  6  Probabilities =  [ 0.          0.24797258  0.56863781  0.18338961  0.          0.          0.        ]\n"
     ]
    },
    {
     "name": "stdout",
     "output_type": "stream",
     "text": [
      "Score =  0.38036809816\n"
     ]
    }
   ],
   "source": [
    "knn = KNeighborsClassifier(n_neighbors=5, weights='distance')\n",
    "knn.fit(tr_features, tr_labels)\n",
    "\n",
    "# Look at 10 of our validation set:\n",
    "for i in range(10):\n",
    "    pred = knn.predict([va_features[i]])[0]\n",
    "    probs = knn.predict_proba([va_features[i]])\n",
    "    print (\"Prediction = \", pred, \"Actual = \", va_labels[i], \" Probabilities = \", probs[0])\n",
    "    \n",
    "# Run the complete validation data set.\n",
    "score = knn.score(va_features, va_labels)\n",
    "print(\"Score = \", score)\n"
   ]
  },
  {
   "cell_type": "code",
   "execution_count": 30,
   "metadata": {},
   "outputs": [
    {
     "name": "stdout",
     "output_type": "stream",
     "text": [
      "N =  489\n"
     ]
    },
    {
     "name": "stdout",
     "output_type": "stream",
     "text": [
      "Total wrong = 303. Eror rate =  61.9632%\nClass =  0 False positive =   0 (  0.0%) False negative =   0 (  0.0%).\nClass =  1 False positive =   0 (  0.0%) False negative =   0 (  0.0%).\nClass =  2 False positive =   0 (  0.0%) False negative =   0 (  0.0%).\nClass =  3 False positive =   0 (  0.0%) False negative =   3 (  0.6%).\nClass =  4 False positive =   3 (  0.6%) False negative =  17 (  3.5%).\nClass =  5 False positive = 102 ( 20.9%) False negative = 100 ( 20.4%).\nClass =  6 False positive = 137 ( 28.0%) False negative =  91 ( 18.6%).\nClass =  7 False positive =  56 ( 11.5%) False negative =  74 ( 15.1%).\nClass =  8 False positive =   5 (  1.0%) False negative =  18 (  3.7%).\nClass =  9 False positive =   0 (  0.0%) False negative =   0 (  0.0%).\nClass = 10 False positive =   0 (  0.0%) False negative =   0 (  0.0%).\n"
     ]
    }
   ],
   "source": [
    "fp = np.zeros(11)\n",
    "fn = np.zeros(11)\n",
    "n = len(va_labels)\n",
    "tot = 0\n",
    "print(\"N = \", n)\n",
    "for i in range(n):\n",
    "    pred = knn.predict([va_features[i]])[0]\n",
    "    if pred != va_labels[i]:\n",
    "        tot = tot + 1\n",
    "        fn[int(va_labels[i])] = fn[int(va_labels[i])] + 1\n",
    "        fp[int(pred)] = fp[int(pred)] + 1\n",
    "\n",
    "print(\"Total wrong = %3d. Eror rate = %8.4f%%\" % (tot, 100.0*tot/n))\n",
    "for i in range(11):\n",
    "    print(\"Class = %2d False positive = %3d (%5.1f%%) False negative = %3d (%5.1f%%).\" % (i, fp[i], 100.0*fp[i]/n, fn[i\n",
    "    ], 100.0*fn[i]/n))\n",
    "\n",
    "        "
   ]
  },
  {
   "cell_type": "markdown",
   "metadata": {},
   "source": [
    "It is clear that implementing KNN diectly from these numerical features is a better approach than imagification. This will not allways be the case, partictularly for noisy data sets."
   ]
  },
  {
   "cell_type": "markdown",
   "metadata": {},
   "source": [
    "Let's try being smarter about the data:\n",
    " \n",
    "Input variables (based on physicochemical tests):\n",
    "  1 - fixed acidity\n",
    "  2 - volatile acidity\n",
    "  3 - citric acid\n",
    "  4 - residual sugar\n",
    "  5 - chlorides\n",
    "  6 - free sulfur dioxide\n",
    "  7 - total sulfur dioxide\n",
    "  8 - density\n",
    "  9 - pH\n",
    "  10 - sulphates\n",
    "  11 - alcohol\n",
    "\n",
    "Output variable (based on sensory data): \n",
    "  12 - quality (score between 0 and 10)\n"
   ]
  },
  {
   "cell_type": "code",
   "execution_count": null,
   "metadata": {},
   "outputs": [],
   "source": []
  }
 ],
 "metadata": {
  "kernelspec": {
   "display_name": "Python 2",
   "language": "python",
   "name": "python2"
  },
  "language_info": {
   "codemirror_mode": {
    "name": "ipython",
    "version": 2
   },
   "file_extension": ".py",
   "mimetype": "text/x-python",
   "name": "python",
   "nbconvert_exporter": "python",
   "pygments_lexer": "ipython2",
   "version": "2.7.6"
  }
 },
 "nbformat": 4,
 "nbformat_minor": 0
}
